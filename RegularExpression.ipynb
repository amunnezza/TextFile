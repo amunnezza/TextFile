{
 "cells": [
  {
   "cell_type": "code",
   "execution_count": 11,
   "id": "fd343ed5-b999-4c76-adb2-5898db7a8aa3",
   "metadata": {},
   "outputs": [],
   "source": [
    "def isNumber(text):\n",
    "    if len(text) != 12:\n",
    "        return False\n",
    "    for i in range(0, 3):\n",
    "        if not text[i].isdecimal():\n",
    "            return False\n",
    "        if text[3] != \"-\":\n",
    "            return False\n",
    "        for i in range(4, 7):\n",
    "            if not text[i].isdecimal():\n",
    "                return False\n",
    "        if text[7] != \"-\":\n",
    "            return False\n",
    "        for i in range(8, 12):\n",
    "            if not text[i].isdecimal():\n",
    "                return False\n",
    "        return True\n",
    "        "
   ]
  }
 ],
 "metadata": {
  "kernelspec": {
   "display_name": "Python 3 (ipykernel)",
   "language": "python",
   "name": "python3"
  },
  "language_info": {
   "codemirror_mode": {
    "name": "ipython",
    "version": 3
   },
   "file_extension": ".py",
   "mimetype": "text/x-python",
   "name": "python",
   "nbconvert_exporter": "python",
   "pygments_lexer": "ipython3",
   "version": "3.11.1"
  }
 },
 "nbformat": 4,
 "nbformat_minor": 5
}
